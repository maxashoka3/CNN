{
  "nbformat": 4,
  "nbformat_minor": 0,
  "metadata": {
    "colab": {
      "name": "AlexNet Architecture.ipynb",
      "provenance": [],
      "authorship_tag": "ABX9TyMvX1ZmZsP8yDv8lTP3G2z3",
      "include_colab_link": true
    },
    "kernelspec": {
      "name": "python3",
      "display_name": "Python 3"
    },
    "language_info": {
      "name": "python"
    }
  },
  "cells": [
    {
      "cell_type": "markdown",
      "metadata": {
        "id": "view-in-github",
        "colab_type": "text"
      },
      "source": [
        "<a href=\"https://colab.research.google.com/github/maxashoka3/CNN/blob/main/AlexNet_Architecture_Seq.ipynb\" target=\"_parent\"><img src=\"https://colab.research.google.com/assets/colab-badge.svg\" alt=\"Open In Colab\"/></a>"
      ]
    },
    {
      "cell_type": "code",
      "metadata": {
        "id": "xCIqRN32rvy9"
      },
      "source": [
        "import keras\n"
      ],
      "execution_count": 1,
      "outputs": []
    },
    {
      "cell_type": "code",
      "metadata": {
        "id": "ID9i4whDsAH4"
      },
      "source": [
        "from keras.models import Sequential\n",
        "#Sequential from keras.model, this gets our neural network as Sequential network\n",
        "#As we know, it can be sequential layers or graph\n",
        "from keras.layers import Dense, Activation,Dropout,Flatten, Conv2D, MaxPooling2D\n",
        "#importing Dense, Activation,Dropout,flatten, Conv2d and Maxpooling\n",
        "# Dropout is a technique used to prevent a model from overfitting\n"
      ],
      "execution_count": 2,
      "outputs": []
    },
    {
      "cell_type": "code",
      "metadata": {
        "id": "3rapTHCkswe1"
      },
      "source": [
        "from keras.layers.normalization import BatchNormalization\n",
        "import numpy as np"
      ],
      "execution_count": 3,
      "outputs": []
    },
    {
      "cell_type": "code",
      "metadata": {
        "id": "--94Vqd9tSXi"
      },
      "source": [
        "image_shape = (227,227,3)\n",
        "np.random.seed(1000)\n",
        "#instantiate an empty model\n",
        "model = Sequential()"
      ],
      "execution_count": 4,
      "outputs": []
    },
    {
      "cell_type": "code",
      "metadata": {
        "id": "jcxxOWOvtebz"
      },
      "source": [
        "#1st Convoulutional Layer\n",
        "model.add(Conv2D(filters = 96,input_shape = image_shape,kernel_size= (11,11),\n",
        "                 strides = (4,4),\n",
        "                 padding = 'valid')\n",
        "                 )\n",
        "model.add(Activation('relu'))"
      ],
      "execution_count": 5,
      "outputs": []
    },
    {
      "cell_type": "code",
      "metadata": {
        "id": "phl6HIeAu3nK"
      },
      "source": [
        "# Max Pooling\n",
        "model.add(MaxPooling2D(pool_size=(3,3),\n",
        "                       strides = (2,2),\n",
        "                       padding = 'valid'))"
      ],
      "execution_count": 6,
      "outputs": []
    },
    {
      "cell_type": "code",
      "metadata": {
        "id": "T-jziJGE4VOD"
      },
      "source": [
        "#Batch normalization before passing it to the next layer\n",
        "model.add(BatchNormalization())"
      ],
      "execution_count": 7,
      "outputs": []
    },
    {
      "cell_type": "code",
      "metadata": {
        "id": "lSeq7PxxviGn"
      },
      "source": [
        "#2nd Convolution \n",
        "model.add(Conv2D(filters= 256, \n",
        "          kernel_size = (11,11),\n",
        "          strides= (1,1),\n",
        "          padding = 'valid'))\n",
        "model.add(Activation('relu'))"
      ],
      "execution_count": 8,
      "outputs": []
    },
    {
      "cell_type": "code",
      "metadata": {
        "id": "aie1aI2NxvJX"
      },
      "source": [
        ""
      ],
      "execution_count": 8,
      "outputs": []
    },
    {
      "cell_type": "code",
      "metadata": {
        "id": "czhBGTjGwgeg"
      },
      "source": [
        "# MaxPooling  \n",
        "model.add(MaxPooling2D(pool_size= (3,3),\n",
        "                       strides = (2,2),\n",
        "                       padding = 'valid'))\n",
        "model.add(BatchNormalization())\n"
      ],
      "execution_count": 9,
      "outputs": []
    },
    {
      "cell_type": "code",
      "metadata": {
        "id": "s6uj3cOxx0hu"
      },
      "source": [
        "#3rd Convolution layer\n",
        "model.add(Conv2D(filters = 384,\n",
        "                 kernel_size = (3,3),\n",
        "                 strides = (1,1),\n",
        "                 padding = 'valid'))\n",
        "model.add(Activation('relu'))"
      ],
      "execution_count": 10,
      "outputs": []
    },
    {
      "cell_type": "code",
      "metadata": {
        "id": "r3RyG9LrySF9"
      },
      "source": [
        "# 4th Convolutional layer\n",
        "model.add(Conv2D(filters= 256,\n",
        "                 kernel_size = (3,3),\n",
        "                 strides = (1,1),\n",
        "                 padding = 'valid'))\n",
        "model.add(Activation('relu'))"
      ],
      "execution_count": 11,
      "outputs": []
    },
    {
      "cell_type": "markdown",
      "metadata": {
        "id": "ikHLqJc2zeDx"
      },
      "source": [
        ""
      ]
    },
    {
      "cell_type": "code",
      "metadata": {
        "id": "At0DYIBty15m"
      },
      "source": [
        "#5th Convolutional layers\n",
        "model.add(Conv2D(filters= 256,\n",
        "                 kernel_size = (3,3),\n",
        "                 strides = (1,1),\n",
        "                 padding = 'valid'))\n",
        "model.add(Activation('relu'))"
      ],
      "execution_count": 12,
      "outputs": []
    },
    {
      "cell_type": "code",
      "metadata": {
        "id": "BRXWhClDzTTP"
      },
      "source": [
        "#MaxPooling\n",
        "model.add(MaxPooling2D(pool_size=(2,2), strides=(2,2), padding='valid'))\n",
        "\n",
        "model.add(BatchNormalization())"
      ],
      "execution_count": 13,
      "outputs": []
    },
    {
      "cell_type": "code",
      "metadata": {
        "id": "cLaexNqRz0jU"
      },
      "source": [
        "#Passing it to a fully connected layers, here we do flatten!\n",
        "model.add(Flatten())"
      ],
      "execution_count": 14,
      "outputs": []
    },
    {
      "cell_type": "code",
      "metadata": {
        "id": "WEAEtKke1yr5"
      },
      "source": [
        "#1st Fully Connected Layer has 4096 neurons\n",
        "model.add(Dense(4096,input_shape = (227*227*3,)))\n",
        "model.add(Activation('relu'))\n",
        "#add dropout to prevent overfitting\n",
        "model.add(Dropout(0.4))\n",
        "model.add(BatchNormalization())\n"
      ],
      "execution_count": 15,
      "outputs": []
    },
    {
      "cell_type": "code",
      "metadata": {
        "id": "5FRNTLS425aU"
      },
      "source": [
        "#2nd Fully Connected Layer\n",
        "model.add(Dense(4090))\n",
        "model.add(Activation('relu'))\n",
        "#Add dropout\n",
        "model.add(Dropout(0.4))\n",
        "model.add(BatchNormalization())"
      ],
      "execution_count": 16,
      "outputs": []
    },
    {
      "cell_type": "code",
      "metadata": {
        "id": "fLinHeDd3RcW"
      },
      "source": [
        "#output layer\n",
        "model.add(Dense(1000))\n",
        "model.add(Activation('softmax'))"
      ],
      "execution_count": 17,
      "outputs": []
    },
    {
      "cell_type": "code",
      "metadata": {
        "colab": {
          "base_uri": "https://localhost:8080/"
        },
        "id": "P1uumax53ZzW",
        "outputId": "5fa7b980-9777-44e2-d2a4-7e32eb59bcfc"
      },
      "source": [
        "model.summary()"
      ],
      "execution_count": 18,
      "outputs": [
        {
          "output_type": "stream",
          "text": [
            "Model: \"sequential\"\n",
            "_________________________________________________________________\n",
            "Layer (type)                 Output Shape              Param #   \n",
            "=================================================================\n",
            "conv2d (Conv2D)              (None, 55, 55, 96)        34944     \n",
            "_________________________________________________________________\n",
            "activation (Activation)      (None, 55, 55, 96)        0         \n",
            "_________________________________________________________________\n",
            "max_pooling2d (MaxPooling2D) (None, 27, 27, 96)        0         \n",
            "_________________________________________________________________\n",
            "batch_normalization (BatchNo (None, 27, 27, 96)        384       \n",
            "_________________________________________________________________\n",
            "conv2d_1 (Conv2D)            (None, 17, 17, 256)       2973952   \n",
            "_________________________________________________________________\n",
            "activation_1 (Activation)    (None, 17, 17, 256)       0         \n",
            "_________________________________________________________________\n",
            "max_pooling2d_1 (MaxPooling2 (None, 8, 8, 256)         0         \n",
            "_________________________________________________________________\n",
            "batch_normalization_1 (Batch (None, 8, 8, 256)         1024      \n",
            "_________________________________________________________________\n",
            "conv2d_2 (Conv2D)            (None, 6, 6, 384)         885120    \n",
            "_________________________________________________________________\n",
            "activation_2 (Activation)    (None, 6, 6, 384)         0         \n",
            "_________________________________________________________________\n",
            "conv2d_3 (Conv2D)            (None, 4, 4, 256)         884992    \n",
            "_________________________________________________________________\n",
            "activation_3 (Activation)    (None, 4, 4, 256)         0         \n",
            "_________________________________________________________________\n",
            "conv2d_4 (Conv2D)            (None, 2, 2, 256)         590080    \n",
            "_________________________________________________________________\n",
            "activation_4 (Activation)    (None, 2, 2, 256)         0         \n",
            "_________________________________________________________________\n",
            "max_pooling2d_2 (MaxPooling2 (None, 1, 1, 256)         0         \n",
            "_________________________________________________________________\n",
            "batch_normalization_2 (Batch (None, 1, 1, 256)         1024      \n",
            "_________________________________________________________________\n",
            "flatten (Flatten)            (None, 256)               0         \n",
            "_________________________________________________________________\n",
            "dense (Dense)                (None, 4096)              1052672   \n",
            "_________________________________________________________________\n",
            "activation_5 (Activation)    (None, 4096)              0         \n",
            "_________________________________________________________________\n",
            "dropout (Dropout)            (None, 4096)              0         \n",
            "_________________________________________________________________\n",
            "batch_normalization_3 (Batch (None, 4096)              16384     \n",
            "_________________________________________________________________\n",
            "dense_1 (Dense)              (None, 4090)              16756730  \n",
            "_________________________________________________________________\n",
            "activation_6 (Activation)    (None, 4090)              0         \n",
            "_________________________________________________________________\n",
            "dropout_1 (Dropout)          (None, 4090)              0         \n",
            "_________________________________________________________________\n",
            "batch_normalization_4 (Batch (None, 4090)              16360     \n",
            "_________________________________________________________________\n",
            "dense_2 (Dense)              (None, 1000)              4091000   \n",
            "_________________________________________________________________\n",
            "activation_7 (Activation)    (None, 1000)              0         \n",
            "=================================================================\n",
            "Total params: 27,304,666\n",
            "Trainable params: 27,287,078\n",
            "Non-trainable params: 17,588\n",
            "_________________________________________________________________\n"
          ],
          "name": "stdout"
        }
      ]
    },
    {
      "cell_type": "code",
      "metadata": {
        "id": "I_hm8lAp3cMt"
      },
      "source": [
        "#Compile the model\n",
        "model.compile(loss = keras.losses.categorical_crossentropy,optimizer = 'adam',\n",
        "              metrics = ['accuracy'])"
      ],
      "execution_count": 19,
      "outputs": []
    },
    {
      "cell_type": "code",
      "metadata": {
        "id": "wcM3LGrN3vRr"
      },
      "source": [
        ""
      ],
      "execution_count": 19,
      "outputs": []
    }
  ]
}